{
 "cells": [
  {
   "cell_type": "markdown",
   "id": "5af9338b",
   "metadata": {},
   "source": [
    "# Sources🔍"
   ]
  },
  {
   "cell_type": "markdown",
   "id": "36e92b85",
   "metadata": {},
   "source": [
    " * CSV Wrestlers WWE:\n",
    " https://www.kaggle.com/datasets/mdabbert/professional-wrestling-champions-wwewwf?resource=download"
   ]
  },
  {
   "cell_type": "markdown",
   "id": "fc73ede7",
   "metadata": {},
   "source": [
    "* Horoscope dates: https://www.allure.com/story/zodiac-sign-personality-traits-dates"
   ]
  },
  {
   "cell_type": "markdown",
   "id": "aba40bc9",
   "metadata": {},
   "source": [
    "* Last fight vs who: https://wwe.fandom.com/es/wiki/Campeonato_de_la_WWE"
   ]
  },
  {
   "cell_type": "markdown",
   "id": "c7023cd1",
   "metadata": {},
   "source": [
    "* API documentation: https://rapidapi.com/blog/love-calculator-api-with-python-php-ruby-javascript-example/"
   ]
  },
  {
   "cell_type": "code",
   "execution_count": null,
   "id": "e206fc52",
   "metadata": {},
   "outputs": [],
   "source": []
  }
 ],
 "metadata": {
  "kernelspec": {
   "display_name": "ironhack",
   "language": "python",
   "name": "ironhack"
  },
  "language_info": {
   "codemirror_mode": {
    "name": "ipython",
    "version": 3
   },
   "file_extension": ".py",
   "mimetype": "text/x-python",
   "name": "python",
   "nbconvert_exporter": "python",
   "pygments_lexer": "ipython3",
   "version": "3.9.12"
  },
  "toc": {
   "base_numbering": 1,
   "nav_menu": {},
   "number_sections": true,
   "sideBar": true,
   "skip_h1_title": false,
   "title_cell": "Table of Contents",
   "title_sidebar": "Contents",
   "toc_cell": false,
   "toc_position": {},
   "toc_section_display": true,
   "toc_window_display": false
  }
 },
 "nbformat": 4,
 "nbformat_minor": 5
}

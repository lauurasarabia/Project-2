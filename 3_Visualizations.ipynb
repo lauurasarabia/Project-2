{
 "cells": [
  {
   "attachments": {},
   "cell_type": "markdown",
   "id": "8427c08b",
   "metadata": {},
   "source": [
    "# Visualizations"
   ]
  },
  {
   "attachments": {},
   "cell_type": "markdown",
   "id": "d2eca88e",
   "metadata": {},
   "source": [
    "Libraries💻"
   ]
  },
  {
   "cell_type": "code",
   "execution_count": 1,
   "id": "e9613412",
   "metadata": {},
   "outputs": [],
   "source": [
    "import numpy as np\n",
    "import pandas as pd\n",
    "import seaborn as sns\n",
    "from bs4 import BeautifulSoup\n",
    "import requests\n",
    "import matplotlib.pyplot as plt\n",
    "import matplotlib\n",
    "import squarify\n",
    "import re"
   ]
  },
  {
   "attachments": {},
   "cell_type": "markdown",
   "id": "f7e8ffdd",
   "metadata": {},
   "source": [
    "Import battles DataFrame:"
   ]
  },
  {
   "cell_type": "code",
   "execution_count": 2,
   "id": "4779e7cb",
   "metadata": {},
   "outputs": [
    {
     "data": {
      "text/html": [
       "<div>\n",
       "<style scoped>\n",
       "    .dataframe tbody tr th:only-of-type {\n",
       "        vertical-align: middle;\n",
       "    }\n",
       "\n",
       "    .dataframe tbody tr th {\n",
       "        vertical-align: top;\n",
       "    }\n",
       "\n",
       "    .dataframe thead th {\n",
       "        text-align: right;\n",
       "    }\n",
       "</style>\n",
       "<table border=\"1\" class=\"dataframe\">\n",
       "  <thead>\n",
       "    <tr style=\"text-align: right;\">\n",
       "      <th></th>\n",
       "      <th>Unnamed: 0</th>\n",
       "      <th>Name</th>\n",
       "      <th>Reign</th>\n",
       "      <th>Date</th>\n",
       "      <th>Belt</th>\n",
       "      <th>DOB</th>\n",
       "      <th>Horoscope</th>\n",
       "      <th>Defeated</th>\n",
       "      <th>Defeated_Horoscope</th>\n",
       "    </tr>\n",
       "  </thead>\n",
       "  <tbody>\n",
       "    <tr>\n",
       "      <th>0</th>\n",
       "      <td>0</td>\n",
       "      <td>Bruno Sammartino</td>\n",
       "      <td>1</td>\n",
       "      <td>17-May-63</td>\n",
       "      <td>WWE Championship</td>\n",
       "      <td>06/10</td>\n",
       "      <td>Libra</td>\n",
       "      <td>Buddy Rogers</td>\n",
       "      <td>Pisces</td>\n",
       "    </tr>\n",
       "    <tr>\n",
       "      <th>1</th>\n",
       "      <td>1</td>\n",
       "      <td>Ivan Koloff</td>\n",
       "      <td>1</td>\n",
       "      <td>18-Jan-71</td>\n",
       "      <td>WWE Championship</td>\n",
       "      <td>25/08</td>\n",
       "      <td>Virgo</td>\n",
       "      <td>Bruno Sammartino</td>\n",
       "      <td>Libra</td>\n",
       "    </tr>\n",
       "    <tr>\n",
       "      <th>2</th>\n",
       "      <td>2</td>\n",
       "      <td>Pedro Morales</td>\n",
       "      <td>1</td>\n",
       "      <td>8-Feb-71</td>\n",
       "      <td>WWE Championship</td>\n",
       "      <td>22/10</td>\n",
       "      <td>Libra</td>\n",
       "      <td>Ivan Koloff</td>\n",
       "      <td>Virgo</td>\n",
       "    </tr>\n",
       "    <tr>\n",
       "      <th>3</th>\n",
       "      <td>3</td>\n",
       "      <td>Stan Stasiak</td>\n",
       "      <td>1</td>\n",
       "      <td>1-Dec-73</td>\n",
       "      <td>WWE Championship</td>\n",
       "      <td>13/04</td>\n",
       "      <td>Aries</td>\n",
       "      <td>Pedro Morales</td>\n",
       "      <td>Libra</td>\n",
       "    </tr>\n",
       "    <tr>\n",
       "      <th>4</th>\n",
       "      <td>4</td>\n",
       "      <td>Bruno Sammartino</td>\n",
       "      <td>2</td>\n",
       "      <td>10-Dec-73</td>\n",
       "      <td>WWE Championship</td>\n",
       "      <td>06/10</td>\n",
       "      <td>Libra</td>\n",
       "      <td>Stan Stasiak</td>\n",
       "      <td>Aries</td>\n",
       "    </tr>\n",
       "    <tr>\n",
       "      <th>...</th>\n",
       "      <td>...</td>\n",
       "      <td>...</td>\n",
       "      <td>...</td>\n",
       "      <td>...</td>\n",
       "      <td>...</td>\n",
       "      <td>...</td>\n",
       "      <td>...</td>\n",
       "      <td>...</td>\n",
       "      <td>...</td>\n",
       "    </tr>\n",
       "    <tr>\n",
       "      <th>80</th>\n",
       "      <td>80</td>\n",
       "      <td>Sheamus</td>\n",
       "      <td>1</td>\n",
       "      <td>14-Mar-11</td>\n",
       "      <td>WWE United States Championship</td>\n",
       "      <td>28/01</td>\n",
       "      <td>Aquarius</td>\n",
       "      <td>John Cena</td>\n",
       "      <td>Taurus</td>\n",
       "    </tr>\n",
       "    <tr>\n",
       "      <th>81</th>\n",
       "      <td>81</td>\n",
       "      <td>John Cena</td>\n",
       "      <td>4</td>\n",
       "      <td>29-Mar-15</td>\n",
       "      <td>WWE United States Championship</td>\n",
       "      <td>23/04</td>\n",
       "      <td>Taurus</td>\n",
       "      <td>Randy Orton</td>\n",
       "      <td>Aries</td>\n",
       "    </tr>\n",
       "    <tr>\n",
       "      <th>82</th>\n",
       "      <td>82</td>\n",
       "      <td>John Cena</td>\n",
       "      <td>5</td>\n",
       "      <td>20-Sep-15</td>\n",
       "      <td>WWE United States Championship</td>\n",
       "      <td>23/04</td>\n",
       "      <td>Taurus</td>\n",
       "      <td>Randy Orton</td>\n",
       "      <td>Aries</td>\n",
       "    </tr>\n",
       "    <tr>\n",
       "      <th>83</th>\n",
       "      <td>83</td>\n",
       "      <td>Chris Jericho</td>\n",
       "      <td>1</td>\n",
       "      <td>9-Jan-17</td>\n",
       "      <td>WWE United States Championship</td>\n",
       "      <td>09/11</td>\n",
       "      <td>Scorpio</td>\n",
       "      <td>Steve Austin</td>\n",
       "      <td>Sagittarius</td>\n",
       "    </tr>\n",
       "    <tr>\n",
       "      <th>84</th>\n",
       "      <td>84</td>\n",
       "      <td>Rey Mysterio</td>\n",
       "      <td>1</td>\n",
       "      <td>19-May-19</td>\n",
       "      <td>WWE United States Championship</td>\n",
       "      <td>11/12</td>\n",
       "      <td>Sagittarius</td>\n",
       "      <td>The Miz</td>\n",
       "      <td>Libra</td>\n",
       "    </tr>\n",
       "  </tbody>\n",
       "</table>\n",
       "<p>85 rows × 9 columns</p>\n",
       "</div>"
      ],
      "text/plain": [
       "    Unnamed: 0              Name  Reign       Date  \\\n",
       "0            0  Bruno Sammartino      1  17-May-63   \n",
       "1            1       Ivan Koloff      1  18-Jan-71   \n",
       "2            2     Pedro Morales      1   8-Feb-71   \n",
       "3            3      Stan Stasiak      1   1-Dec-73   \n",
       "4            4  Bruno Sammartino      2  10-Dec-73   \n",
       "..         ...               ...    ...        ...   \n",
       "80          80           Sheamus      1  14-Mar-11   \n",
       "81          81         John Cena      4  29-Mar-15   \n",
       "82          82         John Cena      5  20-Sep-15   \n",
       "83          83     Chris Jericho      1   9-Jan-17   \n",
       "84          84      Rey Mysterio      1  19-May-19   \n",
       "\n",
       "                              Belt    DOB    Horoscope          Defeated  \\\n",
       "0                 WWE Championship  06/10        Libra      Buddy Rogers   \n",
       "1                 WWE Championship  25/08        Virgo  Bruno Sammartino   \n",
       "2                 WWE Championship  22/10        Libra       Ivan Koloff   \n",
       "3                 WWE Championship  13/04        Aries     Pedro Morales   \n",
       "4                 WWE Championship  06/10        Libra      Stan Stasiak   \n",
       "..                             ...    ...          ...               ...   \n",
       "80  WWE United States Championship  28/01     Aquarius         John Cena   \n",
       "81  WWE United States Championship  23/04       Taurus       Randy Orton   \n",
       "82  WWE United States Championship  23/04       Taurus       Randy Orton   \n",
       "83  WWE United States Championship  09/11      Scorpio      Steve Austin   \n",
       "84  WWE United States Championship  11/12  Sagittarius           The Miz   \n",
       "\n",
       "   Defeated_Horoscope  \n",
       "0              Pisces  \n",
       "1               Libra  \n",
       "2               Virgo  \n",
       "3               Libra  \n",
       "4               Aries  \n",
       "..                ...  \n",
       "80             Taurus  \n",
       "81              Aries  \n",
       "82              Aries  \n",
       "83        Sagittarius  \n",
       "84              Libra  \n",
       "\n",
       "[85 rows x 9 columns]"
      ]
     },
     "execution_count": 2,
     "metadata": {},
     "output_type": "execute_result"
    }
   ],
   "source": [
    "battles = pd.read_csv(\"/Users/lauurasarabia/Ironhack/projects/Project-2/data/battles.csv\")\n",
    "battles"
   ]
  },
  {
   "cell_type": "markdown",
   "id": "c16d1133",
   "metadata": {},
   "source": [
    "# Top 5 Classification🔝"
   ]
  },
  {
   "cell_type": "code",
   "execution_count": 3,
   "id": "8a43fb77",
   "metadata": {},
   "outputs": [
    {
     "data": {
      "text/plain": [
       "<AxesSubplot: xlabel='Name'>"
      ]
     },
     "execution_count": 3,
     "metadata": {},
     "output_type": "execute_result"
    },
    {
     "data": {
      "image/png": "[encoded data removed]",
      "text/plain": [
       "<Figure size 432x288 with 1 Axes>"
      ]
     },
     "metadata": {
      "needs_background": "light"
     },
     "output_type": "display_data"
    }
   ],
   "source": [
    "maxreign = battles[[\"Name\", \"Reign\"]].groupby(by=\"Name\").agg(\"max\").sort_values(by=[\"Reign\"], ascending=False)\n",
    "maxreign = maxreign.head(5)\n",
    "maxreign.plot(legend=True)"
   ]
  },
  {
   "cell_type": "code",
   "execution_count": 4,
   "id": "d8d2ccc5",
   "metadata": {},
   "outputs": [],
   "source": [
    "battles.sort_values(by=[\"Reign\"], ascending=False, inplace=True)\n",
    "battles.drop([\"Unnamed: 0\"], axis=1, inplace=True)"
   ]
  },
  {
   "cell_type": "code",
   "execution_count": 5,
   "id": "e6213c93",
   "metadata": {},
   "outputs": [],
   "source": [
    "battles.reset_index(drop=True, inplace=True)"
   ]
  },
  {
   "cell_type": "markdown",
   "id": "62af00bf",
   "metadata": {},
   "source": [
    "# Wins by horoscopes🔮"
   ]
  },
  {
   "cell_type": "code",
   "execution_count": 6,
   "id": "73db3e4b",
   "metadata": {},
   "outputs": [
    {
     "data": {
      "text/plain": [
       "<AxesSubplot: title={'center': 'Horoscopes Strength'}>"
      ]
     },
     "execution_count": 6,
     "metadata": {},
     "output_type": "execute_result"
    },
    {
     "data": {
      "image/png": "[encoded data removed]",
      "text/plain": [
       "<Figure size 432x288 with 1 Axes>"
      ]
     },
     "metadata": {
      "needs_background": "light"
     },
     "output_type": "display_data"
    }
   ],
   "source": [
    "battles[\"Horoscope\"].value_counts().plot(kind=\"bar\", color=[\"#fd7f6f\", \"#7eb0d5\", \"#b2e061\", \"#bd7ebe\", \"#ffb55a\", \"#ffee65\", \"#beb9db\", \"#fdcce5\", \"#8bd3c7\"], title=\"Horoscopes Strength\")"
   ]
  },
  {
   "cell_type": "markdown",
   "id": "a67c22dc",
   "metadata": {},
   "source": [
    "# Comparing horoscope compatibility from our top battles:"
   ]
  },
  {
   "cell_type": "code",
   "execution_count": 7,
   "id": "1c61567d",
   "metadata": {},
   "outputs": [
    {
     "data": {
      "text/html": [
       "<div>\n",
       "<style scoped>\n",
       "    .dataframe tbody tr th:only-of-type {\n",
       "        vertical-align: middle;\n",
       "    }\n",
       "\n",
       "    .dataframe tbody tr th {\n",
       "        vertical-align: top;\n",
       "    }\n",
       "\n",
       "    .dataframe thead th {\n",
       "        text-align: right;\n",
       "    }\n",
       "</style>\n",
       "<table border=\"1\" class=\"dataframe\">\n",
       "  <thead>\n",
       "    <tr style=\"text-align: right;\">\n",
       "      <th></th>\n",
       "      <th>Name</th>\n",
       "      <th>Reign</th>\n",
       "      <th>Date</th>\n",
       "      <th>Belt</th>\n",
       "      <th>DOB</th>\n",
       "      <th>Horoscope</th>\n",
       "      <th>Defeated</th>\n",
       "      <th>Defeated_Horoscope</th>\n",
       "    </tr>\n",
       "  </thead>\n",
       "  <tbody>\n",
       "    <tr>\n",
       "      <th>0</th>\n",
       "      <td>John Cena</td>\n",
       "      <td>9</td>\n",
       "      <td>25-Jul-11</td>\n",
       "      <td>WWE Championship</td>\n",
       "      <td>23/04</td>\n",
       "      <td>Taurus</td>\n",
       "      <td>Rey Mysterio</td>\n",
       "      <td>Sagittarius</td>\n",
       "    </tr>\n",
       "    <tr>\n",
       "      <th>1</th>\n",
       "      <td>The Rock</td>\n",
       "      <td>6</td>\n",
       "      <td>25-Feb-01</td>\n",
       "      <td>WWE Championship</td>\n",
       "      <td>02/05</td>\n",
       "      <td>Taurus</td>\n",
       "      <td>Kurt Angle</td>\n",
       "      <td>Sagittarius</td>\n",
       "    </tr>\n",
       "    <tr>\n",
       "      <th>2</th>\n",
       "      <td>Triple H</td>\n",
       "      <td>6</td>\n",
       "      <td>7-Oct-07</td>\n",
       "      <td>WWE Championship</td>\n",
       "      <td>27/07</td>\n",
       "      <td>Leo</td>\n",
       "      <td>Randy Orton</td>\n",
       "      <td>Aries</td>\n",
       "    </tr>\n",
       "    <tr>\n",
       "      <th>3</th>\n",
       "      <td>Bret Hart</td>\n",
       "      <td>5</td>\n",
       "      <td>17-May-10</td>\n",
       "      <td>WWE United States Championship</td>\n",
       "      <td>02/07</td>\n",
       "      <td>Cancer</td>\n",
       "      <td>The Undertaker</td>\n",
       "      <td>Aries</td>\n",
       "    </tr>\n",
       "    <tr>\n",
       "      <th>4</th>\n",
       "      <td>Randy Orton</td>\n",
       "      <td>5</td>\n",
       "      <td>4-Oct-09</td>\n",
       "      <td>WWE Championship</td>\n",
       "      <td>01/04</td>\n",
       "      <td>Aries</td>\n",
       "      <td>John Cena</td>\n",
       "      <td>Taurus</td>\n",
       "    </tr>\n",
       "  </tbody>\n",
       "</table>\n",
       "</div>"
      ],
      "text/plain": [
       "          Name  Reign       Date                            Belt    DOB  \\\n",
       "0    John Cena      9  25-Jul-11                WWE Championship  23/04   \n",
       "1     The Rock      6  25-Feb-01                WWE Championship  02/05   \n",
       "2     Triple H      6   7-Oct-07                WWE Championship  27/07   \n",
       "3    Bret Hart      5  17-May-10  WWE United States Championship  02/07   \n",
       "4  Randy Orton      5   4-Oct-09                WWE Championship  01/04   \n",
       "\n",
       "  Horoscope        Defeated Defeated_Horoscope  \n",
       "0    Taurus    Rey Mysterio        Sagittarius  \n",
       "1    Taurus      Kurt Angle        Sagittarius  \n",
       "2       Leo     Randy Orton              Aries  \n",
       "3    Cancer  The Undertaker              Aries  \n",
       "4     Aries       John Cena             Taurus  "
      ]
     },
     "execution_count": 7,
     "metadata": {},
     "output_type": "execute_result"
    }
   ],
   "source": [
    "horoscopes_compatibility = battles.head(5)\n",
    "horoscopes_compatibility"
   ]
  },
  {
   "cell_type": "markdown",
   "id": "fc2d55be",
   "metadata": {},
   "source": [
    "# John Cena vs Rey Mysterio / The Rock vs Kurt Angle"
   ]
  },
  {
   "cell_type": "code",
   "execution_count": 8,
   "id": "8e65ac27",
   "metadata": {},
   "outputs": [],
   "source": [
    "url_3 = \"https://thoughtcatalog.com/january-nelson/2021/03/taurus-and-sagittarius/#:~:text=These%20zodiac%20signs%20are%20complete,be%20honest%20about%20their%20boundaries.\""
   ]
  },
  {
   "cell_type": "code",
   "execution_count": 9,
   "id": "041bb27d",
   "metadata": {},
   "outputs": [],
   "source": [
    "html = requests.get(url_3)"
   ]
  },
  {
   "cell_type": "code",
   "execution_count": 10,
   "id": "7432f35f",
   "metadata": {},
   "outputs": [],
   "source": [
    "soup = BeautifulSoup(html.content, \"html.parser\")"
   ]
  },
  {
   "cell_type": "code",
   "execution_count": 11,
   "id": "10b6711a",
   "metadata": {
    "scrolled": true
   },
   "outputs": [
    {
     "data": {
      "text/plain": [
       "'Taurus Sagittarius love is complicated. These two signs (an earth and fire) live life in a completely different way. The life Taurus lives is safe and predictable. Meanwhile, a Sagittarius leads an exciting, high energy life. Overall, they make a poor love match.'"
      ]
     },
     "execution_count": 11,
     "metadata": {},
     "output_type": "execute_result"
    }
   ],
   "source": [
    "tags = soup.find_all(\"p\", attrs = {\"class\":\"p2\"})\n",
    "text = tags[6].getText()\n",
    "text"
   ]
  },
  {
   "cell_type": "markdown",
   "id": "9289c377",
   "metadata": {},
   "source": [
    "![JohnCenaTheRock](https://img.republicworld.com/republic-prod/stories/promolarge/xhdpi/aeqilftyemiqcvrp_1587634007.jpeg)"
   ]
  },
  {
   "cell_type": "code",
   "execution_count": 12,
   "id": "e4e9a415",
   "metadata": {},
   "outputs": [],
   "source": [
    "loveapi = pd.read_csv('/Users/lauurasarabia/Ironhack/projects/Project-2/data/loveapi.csv')\n",
    "loveapi.sort_values(by=[\"Reign\"], ascending=False, inplace=True)\n",
    "loveapi.drop([\"Unnamed: 0\", \"Unnamed: 0.1\"], axis=1, inplace=True)"
   ]
  },
  {
   "cell_type": "code",
   "execution_count": 13,
   "id": "969d2b9f",
   "metadata": {},
   "outputs": [
    {
     "data": {
      "text/html": [
       "<div>\n",
       "<style scoped>\n",
       "    .dataframe tbody tr th:only-of-type {\n",
       "        vertical-align: middle;\n",
       "    }\n",
       "\n",
       "    .dataframe tbody tr th {\n",
       "        vertical-align: top;\n",
       "    }\n",
       "\n",
       "    .dataframe thead th {\n",
       "        text-align: right;\n",
       "    }\n",
       "</style>\n",
       "<table border=\"1\" class=\"dataframe\">\n",
       "  <thead>\n",
       "    <tr style=\"text-align: right;\">\n",
       "      <th></th>\n",
       "      <th>Name</th>\n",
       "      <th>Reign</th>\n",
       "      <th>Date</th>\n",
       "      <th>Belt</th>\n",
       "      <th>DOB</th>\n",
       "      <th>Horoscope</th>\n",
       "      <th>Defeated</th>\n",
       "      <th>Defeated_Horoscope</th>\n",
       "      <th>Love_Percentage</th>\n",
       "    </tr>\n",
       "  </thead>\n",
       "  <tbody>\n",
       "    <tr>\n",
       "      <th>64</th>\n",
       "      <td>John Cena</td>\n",
       "      <td>9</td>\n",
       "      <td>25-Jul-11</td>\n",
       "      <td>WWE Championship</td>\n",
       "      <td>23/04</td>\n",
       "      <td>Taurus</td>\n",
       "      <td>Rey Mysterio</td>\n",
       "      <td>Sagittarius</td>\n",
       "      <td>Not a good choice.</td>\n",
       "    </tr>\n",
       "    <tr>\n",
       "      <th>42</th>\n",
       "      <td>The Rock</td>\n",
       "      <td>6</td>\n",
       "      <td>25-Feb-01</td>\n",
       "      <td>WWE Championship</td>\n",
       "      <td>02/05</td>\n",
       "      <td>Taurus</td>\n",
       "      <td>Kurt Angle</td>\n",
       "      <td>Sagittarius</td>\n",
       "      <td>Not a good choice.</td>\n",
       "    </tr>\n",
       "  </tbody>\n",
       "</table>\n",
       "</div>"
      ],
      "text/plain": [
       "         Name  Reign       Date              Belt    DOB Horoscope  \\\n",
       "64  John Cena      9  25-Jul-11  WWE Championship  23/04    Taurus   \n",
       "42   The Rock      6  25-Feb-01  WWE Championship  02/05    Taurus   \n",
       "\n",
       "        Defeated Defeated_Horoscope     Love_Percentage  \n",
       "64  Rey Mysterio        Sagittarius  Not a good choice.  \n",
       "42    Kurt Angle        Sagittarius  Not a good choice.  "
      ]
     },
     "execution_count": 13,
     "metadata": {},
     "output_type": "execute_result"
    }
   ],
   "source": [
    "loveapi.head(2)"
   ]
  },
  {
   "cell_type": "code",
   "execution_count": null,
   "id": "1f377a79",
   "metadata": {},
   "outputs": [],
   "source": []
  }
 ],
 "metadata": {
  "kernelspec": {
   "display_name": "ironhack",
   "language": "python",
   "name": "ironhack"
  },
  "language_info": {
   "codemirror_mode": {
    "name": "ipython",
    "version": 3
   },
   "file_extension": ".py",
   "mimetype": "text/x-python",
   "name": "python",
   "nbconvert_exporter": "python",
   "pygments_lexer": "ipython3",
   "version": "3.9.12"
  },
  "toc": {
   "base_numbering": 1,
   "nav_menu": {},
   "number_sections": true,
   "sideBar": true,
   "skip_h1_title": false,
   "title_cell": "Table of Contents",
   "title_sidebar": "Contents",
   "toc_cell": false,
   "toc_position": {},
   "toc_section_display": true,
   "toc_window_display": false
  }
 },
 "nbformat": 4,
 "nbformat_minor": 5
}
